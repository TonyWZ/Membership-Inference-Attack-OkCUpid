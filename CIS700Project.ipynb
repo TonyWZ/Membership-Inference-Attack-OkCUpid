{
  "nbformat": 4,
  "nbformat_minor": 0,
  "metadata": {
    "colab": {
      "name": "CIS700Project.ipynb",
      "provenance": [],
      "collapsed_sections": [],
      "toc_visible": true
    },
    "kernelspec": {
      "name": "python3",
      "display_name": "Python 3"
    }
  },
  "cells": [
    {
      "cell_type": "markdown",
      "metadata": {
        "id": "X2ANoPldh3In"
      },
      "source": [
        "# Data Preprocessing"
      ]
    },
    {
      "cell_type": "code",
      "metadata": {
        "id": "T5dExUm1sgSu"
      },
      "source": [
        "import collections\n",
        "import math\n",
        "import random\n",
        "import json\n",
        "\n",
        "from matplotlib import pyplot as plt\n",
        "import numpy as np\n",
        "import pandas as pd\n",
        "import torch\n",
        "import torch.nn as nn\n",
        "import torch.nn.functional as F"
      ],
      "execution_count": null,
      "outputs": []
    },
    {
      "cell_type": "markdown",
      "metadata": {
        "id": "8fB7wMq7fjNS"
      },
      "source": [
        "We drop the essay responses and last online feature."
      ]
    },
    {
      "cell_type": "code",
      "metadata": {
        "colab": {
          "base_uri": "https://localhost:8080/"
        },
        "id": "HBMsRpr8dLeS",
        "outputId": "2ec353b7-af87-495f-f66a-5780d7c68452"
      },
      "source": [
        "df = pd.read_csv('/content/drive/MyDrive/CIS700Project/profiles.csv')\n",
        "df.head()\n",
        "df = df.drop(columns=['essay' + str(i) for i in range(10)])\n",
        "df = df.drop(columns=['last_online', ])\n",
        "df.dtypes"
      ],
      "execution_count": null,
      "outputs": [
        {
          "output_type": "execute_result",
          "data": {
            "text/plain": [
              "age              int64\n",
              "body_type       object\n",
              "diet            object\n",
              "drinks          object\n",
              "drugs           object\n",
              "education       object\n",
              "ethnicity       object\n",
              "height         float64\n",
              "income           int64\n",
              "job             object\n",
              "location        object\n",
              "offspring       object\n",
              "orientation     object\n",
              "pets            object\n",
              "religion        object\n",
              "sex             object\n",
              "sign            object\n",
              "smokes          object\n",
              "speaks          object\n",
              "status          object\n",
              "dtype: object"
            ]
          },
          "metadata": {
            "tags": []
          },
          "execution_count": 2
        }
      ]
    },
    {
      "cell_type": "markdown",
      "metadata": {
        "id": "ItMsesma-oSl"
      },
      "source": [
        "Convert single value categorical features into one-hot encoding."
      ]
    },
    {
      "cell_type": "code",
      "metadata": {
        "id": "SA67E_6FhARo"
      },
      "source": [
        "one_hot_col_list = []\n",
        "for col in df.columns:\n",
        "  if col not in ['age', 'ethnicity', 'height', 'job', 'religion', 'speaks',]:\n",
        "    one_hot_col_list.append(col)\n",
        "\n",
        "one_hot_df = pd.get_dummies(df, columns = one_hot_col_list, dummy_na=True)\n",
        "\n",
        "# Drop columns that contain only one unique value.\n",
        "\n",
        "uniform_col_list = []\n",
        "for col, num in zip(one_hot_df.columns, one_hot_df.nunique(dropna=False)):\n",
        "  if num == 1:\n",
        "    uniform_col_list.append(col)\n",
        "\n",
        "one_hot_df = one_hot_df.drop(columns=uniform_col_list)"
      ],
      "execution_count": null,
      "outputs": []
    },
    {
      "cell_type": "markdown",
      "metadata": {
        "id": "dnWuiehe-wka"
      },
      "source": [
        "Convert features with lists of values into one-hot encoding."
      ]
    },
    {
      "cell_type": "code",
      "metadata": {
        "id": "C6NkN733r9RN"
      },
      "source": [
        "def label_list_binarize(df, column, column_idx, sanitization=lambda x: x):\n",
        "  value_set = set()\n",
        "  for val in df[column].unique():\n",
        "    if type(val) != str:\n",
        "      continue\n",
        "    for token in val.split(', '):\n",
        "      value_set.add(sanitization(token))\n",
        "\n",
        "  for value in value_set:\n",
        "    df[column + '_' + value] = 0\n",
        "    df[column + '_nan'] = 0\n",
        "\n",
        "  for i, row in df.iterrows():\n",
        "    if type(row[column_idx]) != str:\n",
        "      one_hot_df.at[i, column + '_nan'] = 1\n",
        "      continue\n",
        "    value_list = row[column_idx].split(', ')\n",
        "    for value in value_list:\n",
        "      one_hot_df.at[i, column + '_' + sanitization(value)] = 1\n",
        "  return df"
      ],
      "execution_count": null,
      "outputs": []
    },
    {
      "cell_type": "code",
      "metadata": {
        "id": "Hvg_4Jb1iN6a"
      },
      "source": [
        "one_hot_df = label_list_binarize(one_hot_df, 'ethnicity', 1)\n",
        "one_hot_df = label_list_binarize(one_hot_df, 'speaks', 5, lambda x: x.split(' ')[0])\n",
        "\n",
        "one_hot_df = one_hot_df.drop(columns=['ethnicity', 'speaks'])"
      ],
      "execution_count": null,
      "outputs": []
    },
    {
      "cell_type": "markdown",
      "metadata": {
        "id": "lbK2C2crYgbx"
      },
      "source": [
        "For convenience, we drop the three data records that have NaN value for height."
      ]
    },
    {
      "cell_type": "code",
      "metadata": {
        "id": "kquhr6xFYmH4"
      },
      "source": [
        "one_hot_df = one_hot_df[one_hot_df['height'].notna()]"
      ],
      "execution_count": null,
      "outputs": []
    },
    {
      "cell_type": "markdown",
      "metadata": {
        "id": "m5ENvL1wjYmD"
      },
      "source": [
        "For job prediction, we encode the religion feature and drop rows with NaN in the job feature."
      ]
    },
    {
      "cell_type": "code",
      "metadata": {
        "id": "KU2jF9YVf5sF"
      },
      "source": [
        "job_prediction_df = one_hot_df[one_hot_df['job'].notna()]\n",
        "job_prediction_df = pd.get_dummies(job_prediction_df, dummy_na=True, columns=['religion'])"
      ],
      "execution_count": null,
      "outputs": []
    },
    {
      "cell_type": "code",
      "metadata": {
        "id": "wyWBhHWvlIWo"
      },
      "source": [
        "job_label_list = job_prediction_df['job'].unique()\n",
        "job_label_to_idx = {job: idx for idx, job in enumerate(job_label_list)}\n",
        "\n",
        "job_prediction_df['job_class'] = job_prediction_df['job'].map(lambda x: job_label_to_idx[x])\n",
        "job_prediction_df = job_prediction_df.drop(columns=['job'])"
      ],
      "execution_count": null,
      "outputs": []
    },
    {
      "cell_type": "markdown",
      "metadata": {
        "id": "3Kki2jaKPi9-"
      },
      "source": [
        "## Dimensionality Reduction for the Dataset\n",
        "\n",
        "We use PCA to reduce the dimensionality of the dataset and find the number of dimensions to encode the information in the dataset."
      ]
    },
    {
      "cell_type": "code",
      "metadata": {
        "colab": {
          "base_uri": "https://localhost:8080/"
        },
        "id": "Yvnpl2eIQEpB",
        "outputId": "2868636f-09df-4c9e-fe1e-f0ed86dd6596"
      },
      "source": [
        "feature_vectors = job_prediction_df.drop(columns=['job_class'])\n",
        "x = feature_vectors.to_numpy()"
      ],
      "execution_count": null,
      "outputs": [
        {
          "output_type": "execute_result",
          "data": {
            "text/plain": [
              "(51747, 521)"
            ]
          },
          "metadata": {
            "tags": []
          },
          "execution_count": 9
        }
      ]
    },
    {
      "cell_type": "code",
      "metadata": {
        "colab": {
          "base_uri": "https://localhost:8080/",
          "height": 482
        },
        "id": "eLCr8ZLuQkBa",
        "outputId": "3105ad3f-1e41-4cf2-9c8f-fb899a674cf1"
      },
      "source": [
        "from sklearn.decomposition import PCA\n",
        "\n",
        "pca = PCA(n_components=20)\n",
        "pca.fit(x)\n",
        "cum_variance_ratio = [sum(pca.explained_variance_ratio_[:i+1]) for i in range(20)]\n",
        "plt.figure(dpi=120)\n",
        "plt.plot(range(1, 21), cum_variance_ratio)\n",
        "plt.title('Cumulative Explained Variance Ratio vs Number of PCA Components')\n",
        "plt.xlabel('Number of PCA components')\n",
        "plt.ylabel('Cumulative Explained Variance Ratio')\n",
        "plt.xticks(range(1, 21))\n",
        "plt.grid()"
      ],
      "execution_count": null,
      "outputs": [
        {
          "output_type": "display_data",
          "data": {
            "image/png": "[encoded data removed]",
            "text/plain": [
              "<Figure size 720x480 with 1 Axes>"
            ]
          },
          "metadata": {
            "tags": [],
            "needs_background": "light"
          }
        }
      ]
    },
    {
      "cell_type": "markdown",
      "metadata": {
        "id": "xyRgHcmuriDq"
      },
      "source": [
        "We now sample a private training set."
      ]
    },
    {
      "cell_type": "code",
      "metadata": {
        "id": "Z1tx4uJ9rafH"
      },
      "source": [
        "np.random.seed(700)\n",
        "job_prediction_subdf = job_prediction_df.sample(12_000, random_state=700)\n",
        "shuffled_index = np.array(range(12_000))\n",
        "np.random.shuffle(shuffled_index)\n",
        "job_private_train_df = job_prediction_subdf[shuffled_index < 10_000]\n",
        "job_validation_df = job_prediction_subdf[shuffled_index >= 10_000]\n",
        "\n",
        "\n",
        "\n",
        "job_private_train_df.to_csv('/content/drive/MyDrive/CIS700Project/JobPrivateTrain.csv', index=False)\n",
        "job_validation_df.to_csv('/content/drive/MyDrive/CIS700Project/JobValidate.csv', index=False)"
      ],
      "execution_count": null,
      "outputs": []
    },
    {
      "cell_type": "markdown",
      "metadata": {
        "id": "OM2vYTT9gNaW"
      },
      "source": [
        "We also store all data records no in the private dataset."
      ]
    },
    {
      "cell_type": "code",
      "metadata": {
        "id": "25Tn-bmcOBj8"
      },
      "source": [
        "job_not_in_train_df = job_prediction_df[~job_prediction_df.isin(job_private_train_df).all(1)]\n",
        "job_not_in_train_df.to_csv('/content/drive/MyDrive/CIS700Project/JobOutsidePrivateTrain.csv', index=False)"
      ],
      "execution_count": null,
      "outputs": []
    },
    {
      "cell_type": "markdown",
      "metadata": {
        "id": "0RBscd2MgX_B"
      },
      "source": [
        "We generate shadow datasets that contain real data instead of synthetic data for experiments."
      ]
    },
    {
      "cell_type": "code",
      "metadata": {
        "id": "tYK5t9sUZ3Qq"
      },
      "source": [
        "for i in range(50):\n",
        "  job_prediction_subdf = job_prediction_df.sample(20_000)\n",
        "  shuffled_index = np.array(range(20_000))\n",
        "  np.random.shuffle(shuffled_index)\n",
        "  real_shadow_train_df = job_prediction_subdf[shuffled_index < 10_000]\n",
        "  real_shadow_test_df = job_prediction_subdf[shuffled_index >= 10_000]\n",
        "  print(real_shadow_train_df.shape)\n",
        "  print(real_shadow_test_df.shape)\n",
        "  real_shadow_train_df.to_csv(\n",
        "      '/content/drive/MyDrive/CIS700Project/RealJobShadowDatasets/real_shadow_train_{:d}.csv'.format(i),\n",
        "      index=False,\n",
        "  )\n",
        "  real_shadow_test_df.to_csv(\n",
        "      '/content/drive/MyDrive/CIS700Project/RealJobShadowDatasets/real_shadow_test_{:d}.csv'.format(i),\n",
        "      index=False,\n",
        "  )"
      ],
      "execution_count": null,
      "outputs": []
    },
    {
      "cell_type": "markdown",
      "metadata": {
        "id": "InyHjFE7kK90"
      },
      "source": [
        "## Prepare for training"
      ]
    },
    {
      "cell_type": "code",
      "metadata": {
        "id": "6WZFIW0dVdcP"
      },
      "source": [
        "processed_col_dtypes = collections.defaultdict(lambda: float)\n",
        "processed_col_dtypes['job_class'] = int\n",
        "\n",
        "job_private_train_df = pd.read_csv('/content/drive/MyDrive/CIS700Project/JobPrivateTrain.csv', dtype=processed_col_dtypes)\n",
        "job_validation_df = pd.read_csv('/content/drive/MyDrive/CIS700Project/JobValidate.csv', dtype=processed_col_dtypes)"
      ],
      "execution_count": null,
      "outputs": []
    },
    {
      "cell_type": "code",
      "metadata": {
        "id": "C2cfou9_uvx0"
      },
      "source": [
        "class JobPredictionDataset(torch.utils.data.Dataset):\n",
        "\n",
        "  def __init__(self, df):\n",
        "    self.df = df\n",
        "  \n",
        "  def __len__(self):\n",
        "    return self.df.shape[0]\n",
        "  \n",
        "  def __getitem__(self, idx):\n",
        "    row = self.df.iloc[idx]\n",
        "    label = int(row['job_class'])\n",
        "    example_tensor = torch.tensor(row[:-1].values.astype(np.float32), dtype=torch.float32)\n",
        "    return example_tensor, label"
      ],
      "execution_count": null,
      "outputs": []
    },
    {
      "cell_type": "code",
      "metadata": {
        "id": "GcViFOPEdlIn"
      },
      "source": [
        "train_set = JobPredictionDataset(job_private_train_df)\n",
        "train_loader = torch.utils.data.DataLoader(train_set, batch_size=50, shuffle=True)\n",
        "\n",
        "validation_set = JobPredictionDataset(job_validation_df)\n",
        "validation_loader = torch.utils.data.DataLoader(validation_set, batch_size=100, shuffle=True)"
      ],
      "execution_count": null,
      "outputs": []
    },
    {
      "cell_type": "markdown",
      "metadata": {
        "id": "jRiShADBiyQH"
      },
      "source": [
        "We define our models."
      ]
    },
    {
      "cell_type": "code",
      "metadata": {
        "id": "jmrTiWGOduFJ"
      },
      "source": [
        "class LogRegModel(nn.Module):\n",
        "  def __init__(self):\n",
        "    super(LogRegModel, self).__init__()\n",
        "    self.linear = nn.Linear(521, 21)\n",
        "\n",
        "  def forward(self, x):\n",
        "    logits = self.linear(x)\n",
        "    return logits\n",
        "\n",
        "class FeedforwardNN(nn.Module):\n",
        "  def __init__(self, neuron_num_list):\n",
        "    super(FeedforwardNN, self).__init__()\n",
        "    layer_list = []\n",
        "    prev_layer_size = 521\n",
        "    for neuron_num in neuron_num_list:\n",
        "      layer_list.append(nn.Linear(prev_layer_size, neuron_num))\n",
        "      prev_layer_size = neuron_num\n",
        "    self.layer_list = nn.ModuleList(layer_list)\n",
        "    self.last_layer = nn.Linear(prev_layer_size, 21)\n",
        "\n",
        "  def forward(self, x):\n",
        "    for layer in self.layer_list:\n",
        "      x = F.relu(layer(x))\n",
        "    logits = self.last_layer(x)\n",
        "    return logits"
      ],
      "execution_count": null,
      "outputs": []
    },
    {
      "cell_type": "code",
      "metadata": {
        "id": "FrZnK770jYqS"
      },
      "source": [
        "def get_accuracy(model, data_loader, device):\n",
        "  total_example_num = 0\n",
        "  total_corr = 0\n",
        "  for x, y in data_loader:\n",
        "    pred = model(x.to(device))\n",
        "    pred_label = torch.argmax(pred, 1)\n",
        "    num_corr = (pred_label == y.to(device)).sum()\n",
        "    total_example_num += y.shape[0]\n",
        "    total_corr += num_corr\n",
        "  return float(total_corr) / total_example_num"
      ],
      "execution_count": null,
      "outputs": []
    },
    {
      "cell_type": "markdown",
      "metadata": {
        "id": "yWt08ErTjsWB"
      },
      "source": [
        "We define our training loop."
      ]
    },
    {
      "cell_type": "code",
      "metadata": {
        "id": "E0x_pzhfixg3"
      },
      "source": [
        "def train_model(model, optimizer, loss_func, epoch_num, device, show_steps=True, epoch_output_interval=1):\n",
        "  model.to(device)\n",
        "  val_acc_list = []\n",
        "  train_acc_list = []\n",
        "  loss_list = []\n",
        "\n",
        "  for e in range(epoch_num):\n",
        "    train_num_corr = 0\n",
        "    epoch_example_num = 0\n",
        "    step_count = 0\n",
        "    cum_loss = 0.\n",
        "    step_interval_example_num = 0\n",
        "    for x, y in train_loader:\n",
        "      step_count += 1\n",
        "      pred = model(x.to(device))\n",
        "      pred_label = torch.argmax(pred, 1)\n",
        "      num_corr = (pred_label == y.to(device)).sum()\n",
        "      epoch_example_num += y.shape[0]\n",
        "      train_num_corr += num_corr\n",
        "      loss = loss_func(pred, y.to(device))\n",
        "      cum_loss += loss\n",
        "      step_interval_example_num += y.shape[0]\n",
        "      loss.backward()\n",
        "      with torch.no_grad():\n",
        "        optimizer.step()\n",
        "      if step_count % 50 == 0:\n",
        "        avg_loss = cum_loss / step_interval_example_num\n",
        "        loss_list.append(avg_loss.item())\n",
        "        if show_steps:\n",
        "          print('Step {:d} avg loss: {:.4f}'.format(step_count, avg_loss))\n",
        "        cum_loss = 0.\n",
        "        step_interval_example_num = 0\n",
        "    train_acc = float(train_num_corr) / epoch_example_num\n",
        "    val_acc = get_accuracy(model, validation_loader, device)\n",
        "    if (e + 1) % epoch_output_interval == 0:\n",
        "      print('Epoch {:d}, train acc: {:.4f}, val acc: {:.4f}'.format(e, train_acc, val_acc))\n",
        "    train_acc_list.append(train_acc)\n",
        "    val_acc_list.append(val_acc)\n",
        "\n",
        "  return loss_list, train_acc_list, val_acc_list"
      ],
      "execution_count": null,
      "outputs": []
    },
    {
      "cell_type": "code",
      "metadata": {
        "id": "qdUmDJOXluZk"
      },
      "source": [
        "def smooth_acc(interval, acc_list):\n",
        "  smoothed_list = []\n",
        "  for i in range(len(acc_list)):\n",
        "    interval_start = max(0, i - interval)\n",
        "    interval_end = min(len(acc_list), i + interval + 1)\n",
        "    avg = sum(acc_list[interval_start:interval_end]) / float(interval_end - interval_start)\n",
        "    smoothed_list.append(avg)\n",
        "  return smoothed_list"
      ],
      "execution_count": null,
      "outputs": []
    },
    {
      "cell_type": "markdown",
      "metadata": {
        "id": "mA5lAOEykdX-"
      },
      "source": [
        "## Training\n",
        "\n",
        "The hyperparameters are hard coded."
      ]
    },
    {
      "cell_type": "code",
      "metadata": {
        "id": "RJU110FjmOcI"
      },
      "source": [
        "device = torch.device('cuda:0' if torch.cuda.is_available() else 'cpu')\n",
        "epoch_num = 40\n",
        "loss_func = nn.CrossEntropyLoss()\n",
        "model = LogRegModel()\n",
        "optimizer = torch.optim.Adam(model.parameters(), lr=1e-5)\n",
        "loss_list, train_acc_list, val_acc_list = train_model(model, optimizer, loss_func, epoch_num, device, show_steps=True)"
      ],
      "execution_count": null,
      "outputs": []
    },
    {
      "cell_type": "code",
      "metadata": {
        "id": "WWWgrNwSwMzS"
      },
      "source": [
        "architecture_list = [(500, 100, 50),]\n",
        "architecture_results = {}\n",
        "\n",
        "device = torch.device('cuda:0' if torch.cuda.is_available() else 'cpu')\n",
        "\n",
        "for architecture in architecture_list:\n",
        "  print('Testing architecture {}'.format(architecture))\n",
        "  epoch_num = 500\n",
        "  loss_func = nn.CrossEntropyLoss()\n",
        "  model = FeedforwardNN(architecture)\n",
        "  lr = 5e-6\n",
        "  optimizer = torch.optim.Adam(model.parameters(), lr=lr)\n",
        "  architecture_results[architecture] = train_model(model, optimizer, loss_func, epoch_num, device, show_steps=False, epoch_output_interval=50)\n",
        "  torch.save(model.state_dict(), 'overfit_final_model.pt')"
      ],
      "execution_count": null,
      "outputs": []
    },
    {
      "cell_type": "markdown",
      "metadata": {
        "id": "KOo30rMKOZHI"
      },
      "source": [
        "## Attack Preparation\n",
        "\n",
        "We first sample 5,000 data records from the whole dataset. These data records are what the attacker would use to learn statistical information about the data records and generate synthetic datasets."
      ]
    },
    {
      "cell_type": "code",
      "metadata": {
        "id": "svSVLDf3wWCe"
      },
      "source": [
        "attacker_job_df = job_prediction_df.sample(5_000, random_state=347)\n",
        "\n",
        "attacker_job_df.to_csv('/content/drive/MyDrive/CIS700Project/AttackerJobData.csv', index=False)\n"
      ],
      "execution_count": null,
      "outputs": []
    },
    {
      "cell_type": "markdown",
      "metadata": {
        "id": "oz2zAmqlxzUr"
      },
      "source": [
        "Learn the statistical information from the sample data."
      ]
    },
    {
      "cell_type": "code",
      "metadata": {
        "id": "IfWMUTAEPKUZ"
      },
      "source": [
        "attacker_job_df = pd.read_csv('/content/drive/MyDrive/CIS700Project/AttackerJobData.csv')"
      ],
      "execution_count": null,
      "outputs": []
    },
    {
      "cell_type": "code",
      "metadata": {
        "id": "dlFTb0eASaDb"
      },
      "source": [
        "one_value_categorical_features = set([col for col in df.columns if col not in [\n",
        "    'age', 'ethnicity', 'height', 'speaks', 'job',\n",
        "]])\n",
        "\n",
        "data_distribution = {}\n",
        "\n",
        "for label in attacker_job_df.job_class.unique():\n",
        "  class_df = attacker_job_df[attacker_job_df['job_class'] == label]\n",
        "  class_distribution = {}\n",
        "\n",
        "  for col, mean in zip(class_df.columns, class_df.mean()):\n",
        "    if col.split('_')[0] in one_value_categorical_features:\n",
        "      feature = col.split('_')[0]\n",
        "    elif col[:9] in ['body_type', 'ethnicity']:\n",
        "      feature = col[:9]\n",
        "    elif col[:6] == 'speaks':\n",
        "      feature = 'speaks'\n",
        "    else:\n",
        "      continue\n",
        "    if feature not in class_distribution:\n",
        "      class_distribution[feature] = {}\n",
        "    class_distribution[feature][col] = mean\n",
        "  \n",
        "  age_log = class_df.age.map(math.log)\n",
        "  class_distribution['age'] = {}\n",
        "  class_distribution['age']['log_mean'] = age_log.mean()\n",
        "  class_distribution['age']['log_std'] = age_log.std()\n",
        "\n",
        "  class_distribution['height'] = {}\n",
        "  class_distribution['height']['mean'] = class_df.height.mean()\n",
        "  class_distribution['height']['std'] = class_df.height.std()\n",
        "\n",
        "  data_distribution[label] = class_distribution\n",
        "\n",
        "class_distribution = dict(attacker_job_df.job_class.value_counts(normalize=True, sort=False))"
      ],
      "execution_count": null,
      "outputs": []
    },
    {
      "cell_type": "code",
      "metadata": {
        "id": "E_IMh2gFvBKT"
      },
      "source": [
        "def sample_multinomial(distribution_dict):\n",
        "  random_val = random.random()\n",
        "  cum_prob = 0.\n",
        "  for key, val in distribution_dict.items():\n",
        "    cum_prob += val\n",
        "    if random_val < cum_prob:\n",
        "      return key\n",
        "\n",
        "def generate_dataset_from_distribution(data_distribution, data_num):\n",
        "  data_list = []\n",
        "  for i in range(data_num):\n",
        "    label = sample_multinomial(class_distribution)\n",
        "    row_dict = {'job_class': label}\n",
        "    label_distribution = data_distribution[label]\n",
        "    for feature, info_dict in label_distribution.items():\n",
        "      if feature == 'age':\n",
        "        age_log = np.random.normal(info_dict['log_mean'], info_dict['log_std'])\n",
        "        row_dict['age'] = math.exp(age_log)\n",
        "      elif feature == 'height':\n",
        "        row_dict['height'] = np.random.normal(info_dict['mean'], info_dict['std'])\n",
        "      elif feature in ['ethnicity', 'speaks']:\n",
        "        for col, mean in info_dict.items():\n",
        "          if random.random() < mean:\n",
        "            row_dict[col] = 1\n",
        "          else:\n",
        "            row_dict[col] = 0\n",
        "      else:\n",
        "        sampled_val = sample_multinomial(info_dict)\n",
        "        for col in info_dict:\n",
        "          if sampled_val == col:\n",
        "            row_dict[col] = 1\n",
        "          else:\n",
        "            row_dict[col] = 0\n",
        "    data_list.append(row_dict)\n",
        "  return pd.DataFrame(data_list, columns=attacker_job_df.columns)"
      ],
      "execution_count": null,
      "outputs": []
    },
    {
      "cell_type": "markdown",
      "metadata": {
        "id": "4d1CGBKOkj0V"
      },
      "source": [
        "We then generate the synthetic shadow datasets."
      ]
    },
    {
      "cell_type": "code",
      "metadata": {
        "id": "nf69Fy4axNdE"
      },
      "source": [
        "for i in range(100):\n",
        "  shadow_train_dataset = generate_dataset_from_distribution(data_distribution, 10_000)\n",
        "  shadow_test_dataset = generate_dataset_from_distribution(data_distribution, 10_000)\n",
        "  shadow_train_dataset.to_csv('/content/drive/MyDrive/CIS700Project/JobShadowDatasets/shadow_train_{:d}.csv'.format(i), index=False)\n",
        "  shadow_test_dataset.to_csv('/content/drive/MyDrive/CIS700Project/JobShadowDatasets/shadow_test_{:d}.csv'.format(i), index=False)"
      ],
      "execution_count": null,
      "outputs": []
    },
    {
      "cell_type": "markdown",
      "metadata": {
        "id": "CIJWfvjgkzzn"
      },
      "source": [
        "The shadow models are trained using a separate script to run on Kaggle."
      ]
    },
    {
      "cell_type": "markdown",
      "metadata": {
        "id": "rWyMbaf16Di3"
      },
      "source": [
        "### Training attack models using neural networks"
      ]
    },
    {
      "cell_type": "code",
      "metadata": {
        "id": "btrZjwNgBZ8Q"
      },
      "source": [
        "import json\n",
        "import os\n",
        "import time\n",
        "\n",
        "import torch\n",
        "import torch.nn as nn\n",
        "import torch.nn.functional as F\n",
        "\n",
        "class AttackDataset(torch.utils.data.Dataset):\n",
        "\n",
        "  def __init__(self, dataset_dir, label_index):\n",
        "    dataset_list = []\n",
        "    self.train_tensor = torch.load(os.path.join(dataset_dir, 'class_{:d}_train.pt'.format(label_index)))\n",
        "    self.test_tensor = torch.load(os.path.join(dataset_dir, 'class_{:d}_test.pt'.format(label_index)))\n",
        "\n",
        "  def __len__(self):\n",
        "    return self.train_tensor.shape[0] + self.test_tensor.shape[0]\n",
        "\n",
        "  def __getitem__(self, idx):\n",
        "    if idx >= self.train_tensor.shape[0]:\n",
        "      idx -= self.train_tensor.shape[0]\n",
        "      return self.test_tensor[idx].clone().detach(), 0\n",
        "    else:\n",
        "      return self.train_tensor[idx].clone().detach(), 1\n",
        "\n",
        "class AttackNN(nn.Module):\n",
        "  def __init__(self, neuron_num_list):\n",
        "    super(AttackNN, self).__init__()\n",
        "    layer_list = []\n",
        "    prev_layer_size = 21\n",
        "    for neuron_num in neuron_num_list:\n",
        "      layer_list.append(nn.Linear(prev_layer_size, neuron_num))\n",
        "      prev_layer_size = neuron_num\n",
        "    self.layer_list = nn.ModuleList(layer_list)\n",
        "    self.last_layer = nn.Linear(prev_layer_size, 1)\n",
        "\n",
        "  def forward(self, x):\n",
        "    for layer in self.layer_list:\n",
        "      x = F.relu(layer(x))\n",
        "    logits = self.last_layer(x)\n",
        "    return logits\n",
        "\n",
        "def get_accuracy(model, data_loader):\n",
        "  total_example_num = 0\n",
        "  total_corr = 0\n",
        "  for x, y in data_loader:\n",
        "    pred = model(x.to(device))\n",
        "    pred_label = (pred > 0).long().squeeze()\n",
        "    num_corr = (pred_label == y.to(device)).sum()\n",
        "    total_example_num += y.shape[0]\n",
        "    total_corr += num_corr\n",
        "  return float(total_corr) / total_example_num\n",
        "\n",
        "def train_model(\n",
        "    model,\n",
        "    train_loader,\n",
        "    optimizer,\n",
        "    loss_func,\n",
        "    epoch_num,\n",
        "    device,\n",
        "    validation_loader=None,\n",
        "    show_steps=True,\n",
        "    epoch_output_interval=1,\n",
        "):\n",
        "  model.to(device)\n",
        "  val_acc_list = []\n",
        "  train_acc_list = []\n",
        "  loss_list = []\n",
        "\n",
        "  for e in range(epoch_num):\n",
        "    train_num_corr = 0\n",
        "    epoch_example_num = 0\n",
        "    step_count = 0\n",
        "    cum_loss = 0.\n",
        "    step_interval_example_num = 0\n",
        "    for x, y in train_loader:\n",
        "      step_count += 1\n",
        "      pred = model(x.to(device))\n",
        "      pred_label = (pred > 0).long().squeeze()\n",
        "      num_corr = (pred_label == y.to(device)).sum()\n",
        "      epoch_example_num += y.shape[0]\n",
        "      train_num_corr += num_corr\n",
        "      loss = loss_func(pred.squeeze(), y.float().to(device))\n",
        "      cum_loss += loss\n",
        "      step_interval_example_num += y.shape[0]\n",
        "      loss.backward()\n",
        "      with torch.no_grad():\n",
        "        optimizer.step()\n",
        "      if step_count % 10 == 0:\n",
        "        avg_loss = cum_loss / step_interval_example_num\n",
        "        loss_list.append(avg_loss.item())\n",
        "        if show_steps:\n",
        "          print('Step {:d} avg loss: {:.4f}'.format(step_count, avg_loss))\n",
        "        cum_loss = 0.\n",
        "        step_interval_example_num = 0\n",
        "    train_acc = float(train_num_corr) / epoch_example_num\n",
        "    train_acc_list.append(train_acc)\n",
        "    if validation_loader is not None:\n",
        "      val_acc = get_accuracy(model, validation_loader)\n",
        "      val_acc_list.append(val_acc)\n",
        "    if (e + 1) % epoch_output_interval == 0:\n",
        "      if validation_loader is not None:\n",
        "        print('Epoch {:d}, train acc: {:.4f}, val acc: {:.4f}'.format(e, train_acc, val_acc))\n",
        "      else:\n",
        "        print('Epoch {:d}, train acc: {:.4f}'.format(e, train_acc))\n",
        "\n",
        "  return model, loss_list, train_acc_list, val_acc_list\n",
        "\n",
        "\n",
        "device = torch.device('cuda:0' if torch.cuda.is_available() else 'cpu')\n",
        "\n",
        "results_dict = {}\n",
        "\n",
        "epoch_num = 2000\n",
        "lr = 1e-6\n",
        "neuron_num = 256\n",
        "\n",
        "for class_label in [6,]:\n",
        "  print(class_label)\n",
        "\n",
        "  train_set = AttackDataset('/content/drive/MyDrive/CIS700Project/attack_datasets_combined/shadow_model_0-39', class_label)\n",
        "  train_loader = torch.utils.data.DataLoader(train_set, batch_size=100, shuffle=True)\n",
        "  test_set = AttackDataset('/content/drive/MyDrive/CIS700Project/attack_datasets_combined/shadow_model_40-49', class_label)\n",
        "  test_loader = torch.utils.data.DataLoader(test_set, batch_size=50, shuffle=False)\n",
        "\n",
        "  loss_func = nn.BCEWithLogitsLoss()\n",
        "  model = AttackNN((neuron_num,))\n",
        "  optimizer = torch.optim.Adam(model.parameters(), lr=lr, weight_decay=0.)\n",
        "  model, loss_list, train_acc_list, val_acc_list = train_model(\n",
        "      model,\n",
        "      train_loader,\n",
        "      optimizer,\n",
        "      loss_func,\n",
        "      epoch_num,\n",
        "      device,\n",
        "      validation_loader=test_loader,\n",
        "      show_steps=False,\n",
        "      epoch_output_interval=10,\n",
        "  )\n",
        "\n",
        "  results_dict[class_label] = {}\n",
        "  results_dict[class_label]['loss_list'] = loss_list\n",
        "  results_dict[class_label]['train_acc_list'] = train_acc_list\n",
        "  results_dict[class_label]['val_acc_list'] = val_acc_list\n",
        "\n",
        "with open('./{:d}_epoch={:d}_results.json'.format(neuron_num, epoch_num), 'w') as f:\n",
        "  json.dump(to_write_dict, f)\n"
      ],
      "execution_count": null,
      "outputs": []
    },
    {
      "cell_type": "markdown",
      "metadata": {
        "id": "2ekv0t0KhWAZ"
      },
      "source": [
        "### Train attack models using random forest"
      ]
    },
    {
      "cell_type": "code",
      "metadata": {
        "id": "S5mmZLNTAORd"
      },
      "source": [
        "import sklearn\n",
        "import torch\n",
        "import numpy as np\n",
        "\n",
        "training_label_to_data = []\n",
        "\n",
        "for label_index in range(21):\n",
        "\n",
        "    train_pos_data = torch.load('/content/drive/MyDrive/CIS700Project/overfit_attack_datasets_combined/shadow_model_0-19/class_{:d}_train.pt'.format(label_index))\n",
        "    train_neg_data = torch.load('/content/drive/MyDrive/CIS700Project/overfit_attack_datasets_combined/shadow_model_0-19/class_{:d}_test.pt'.format(label_index))\n",
        "    test_pos_data = torch.load('/content/drive/MyDrive/CIS700Project/overfit_attack_datasets_combined/shadow_model_20-24/class_{:d}_train.pt'.format(label_index))\n",
        "    test_neg_data = torch.load('/content/drive/MyDrive/CIS700Project/overfit_attack_datasets_combined/shadow_model_20-24/class_{:d}_test.pt'.format(label_index))\n",
        "\n",
        "    x_train = np.concatenate((train_pos_data.detach().numpy(), train_neg_data.detach().numpy()))\n",
        "    y_train = np.concatenate((np.ones(train_pos_data.shape[0]), np.zeros(train_neg_data.shape[0])))\n",
        "\n",
        "    x_test = np.concatenate((test_pos_data.detach().numpy(), test_neg_data.detach().numpy()))\n",
        "    y_test = np.concatenate((np.ones(test_pos_data.shape[0]), np.zeros(test_neg_data.shape[0])))\n",
        "\n",
        "    training_label_to_data.append((x_train, y_train, x_test, y_test))"
      ],
      "execution_count": null,
      "outputs": []
    },
    {
      "cell_type": "code",
      "metadata": {
        "id": "Sd9n_cTQfTtg"
      },
      "source": [
        "from sklearn.ensemble import RandomForestClassifier\n",
        "\n",
        "max_val_accuracies = []\n",
        "optimal_configurations = []\n",
        "optimal_models = []\n",
        "\n",
        "for label_index in range(21):\n",
        "\n",
        "  print('Testing label index {:d}'.format(label_index))\n",
        "\n",
        "  x_train, y_train, x_test, y_test = training_label_to_data[label_index]\n",
        "\n",
        "  best_acc = 0.\n",
        "  best_config = None\n",
        "  best_model = None\n",
        "\n",
        "  for tree_num in range(1, 21):\n",
        "    for depth in range(1, 21):\n",
        "      clf = RandomForestClassifier(n_estimators=tree_num, max_depth=depth, verbose=0)\n",
        "      clf = clf.fit(x_train, y_train)\n",
        "\n",
        "      val_acc = clf.score(x_test, y_test)\n",
        "      if val_acc > best_acc:\n",
        "        best_acc = val_acc\n",
        "        best_config = (tree_num, depth)\n",
        "        best_model = clf\n",
        "  \n",
        "  print(best_acc)\n",
        "  max_val_accuracies.append(best_acc)\n",
        "  optimal_configurations.append(best_config)\n",
        "  optimal_models.append(best_model)"
      ],
      "execution_count": null,
      "outputs": []
    },
    {
      "cell_type": "code",
      "metadata": {
        "id": "RceqA0PzwDPZ"
      },
      "source": [
        "val_avg_acc = 0.\n",
        "total_size = sum([len(training_label_to_data[i][0]) for i in range(21)])\n",
        "\n",
        "for label_index in range(21):\n",
        "  print('label: {:d}, train dataset size: {:d}, highest val accuracy: {:.4f}'.format(\n",
        "      label_index,\n",
        "      len(training_label_to_data[label_index][0]),\n",
        "      max_val_accuracies[label_index],\n",
        "  ))\n",
        "  val_avg_acc += (float(len(training_label_to_data[label_index][0])) / total_size) * max_val_accuracies[label_index]\n",
        "\n",
        "print(val_avg_acc)\n"
      ],
      "execution_count": null,
      "outputs": []
    },
    {
      "cell_type": "markdown",
      "metadata": {
        "id": "pi-KJ7tqhobT"
      },
      "source": [
        "### Test random forest models"
      ]
    },
    {
      "cell_type": "code",
      "metadata": {
        "id": "0pAOopDghusf"
      },
      "source": [
        "import sklearn\n",
        "import torch\n",
        "import numpy as np\n",
        "\n",
        "testing_label_to_data = []\n",
        "\n",
        "for label_index in range(21):\n",
        "\n",
        "    pos_data = torch.load('/content/drive/MyDrive/CIS700Project/target_model_combined/overfit_target_model/class_{:d}_train.pt'.format(label_index))\n",
        "    neg_data = torch.load('/content/drive/MyDrive/CIS700Project/target_model_combined/overfit_target_model/class_{:d}_test.pt'.format(label_index))\n",
        "\n",
        "    x_test = np.concatenate((pos_data.detach().numpy(), neg_data.detach().numpy()))\n",
        "    y_test = np.concatenate((np.ones(pos_data.shape[0]), np.zeros(neg_data.shape[0])))\n",
        "\n",
        "    testing_label_to_data.append((x_test, y_test))"
      ],
      "execution_count": null,
      "outputs": []
    },
    {
      "cell_type": "code",
      "metadata": {
        "colab": {
          "base_uri": "https://localhost:8080/"
        },
        "id": "5-MIQwRolczV",
        "outputId": "fe05e50f-1370-4377-d2e2-4d109a668ab6"
      },
      "source": [
        "total_corr = 0\n",
        "total_num = 0\n",
        "eval_acc_list = []\n",
        "\n",
        "for label_index in range(21):\n",
        "\n",
        "  x_test, y_test = testing_label_to_data[label_index]\n",
        "\n",
        "  clf = optimal_models[label_index]\n",
        "\n",
        "  val_acc = clf.score(x_test, y_test)\n",
        "  eval_acc_list.append(clf.score(x_test, y_test))\n",
        "\n",
        "  pred = clf.predict(x_test)\n",
        "  total_corr += (pred == y_test).sum()\n",
        "  total_num += y_test.shape[0]\n",
        "\n",
        "final_acc = float(total_corr) / total_num\n",
        "print(final_acc)"
      ],
      "execution_count": null,
      "outputs": [
        {
          "output_type": "stream",
          "text": [
            "0.7274\n"
          ],
          "name": "stdout"
        }
      ]
    }
  ]
}